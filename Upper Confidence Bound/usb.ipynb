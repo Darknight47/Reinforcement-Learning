{
 "cells": [
  {
   "cell_type": "markdown",
   "metadata": {},
   "source": [
    "# Upper Confidence Bound\n"
   ]
  },
  {
   "cell_type": "markdown",
   "metadata": {},
   "source": [
    "## Main Task\n",
    "\n",
    "> We are going to optimize the click through rate of some ads for a car.  \n",
    "> Figuring out the ad that has the highest conversion rate, the ad that the users has clicked most. "
   ]
  },
  {
   "cell_type": "markdown",
   "metadata": {},
   "source": [
    "### Data Understanding\n",
    "\n",
    "The advertisement team has provided 10 different ads (10 different design of a car). Advertising team is wondering which advertisement will attract the most people to click the ad and potentially  \n",
    "buying the car?\n",
    "\n",
    "In the dataset we have 10 different ads, in the process of onine learning, we will show the ads to different users online, we are going to show one of these ads each time the user opens a webpage  \n",
    "and we are collecting the info or result if the user has clicked on the ad or not (YES/NO) on the ad.\n",
    "\n",
    "A user opens a webpage, the UCB algorithm selects an ad for showing it to the user, then we record if the user has clicked on it as (1) and if the user doesn't as (0).\n",
    "The procedure continues for 10,000 users.\n",
    "\n",
    "The dataset is just a SIMULATION and we already know which user is going to click on which ad, this is the way that can actually learning the UCB algorithm. Otherwise it is not really possible  \n",
    "because the process of opening a website by different users and recording the clicks on the ads is a DYNAMIC process, it is costly and in real-life project we wouldn't know which ad a user will   click on by default.\n",
    "\n",
    "Each row corresponds to a user and each column corresponds to an ad. The dataset is a simulation and it shows which user has clicked on which ad."
   ]
  },
  {
   "cell_type": "markdown",
   "metadata": {},
   "source": []
  }
 ],
 "metadata": {
  "language_info": {
   "name": "python"
  }
 },
 "nbformat": 4,
 "nbformat_minor": 2
}
